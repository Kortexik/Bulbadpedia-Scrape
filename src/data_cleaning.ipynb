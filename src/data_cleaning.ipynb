{
 "cells": [
  {
   "cell_type": "code",
   "execution_count": 245,
   "metadata": {},
   "outputs": [],
   "source": [
    "import pandas as pd\n",
    "from abilities import list_of_abilities\n",
    "pd.set_option('display.max_columns', 500)\n",
    "pd.set_option('display.max_rows', 500)\n",
    "pd.set_option('display.width', 1000)"
   ]
  },
  {
   "cell_type": "code",
   "execution_count": 246,
   "metadata": {},
   "outputs": [
    {
     "data": {
      "text/plain": [
       "Unnamed: 0            0\n",
       "Name                  0\n",
       "Category              0\n",
       "Generation            0\n",
       "Types                 0\n",
       "Abilities             0\n",
       "Catch_Rate            0\n",
       "Egg_Groups            0\n",
       "Hatch_Time            0\n",
       "Height                0\n",
       "Weight                0\n",
       "Exp_Yield             0\n",
       "Level_Rate            0\n",
       "Evs                   0\n",
       "Base_Friendship       0\n",
       "Evolution_info        0\n",
       "Male_Ratio            0\n",
       "Female_Ratio          0\n",
       "Locations             0\n",
       "Stats                 0\n",
       "Type_effectiveness    0\n",
       "Moves                 0\n",
       "dtype: int64"
      ]
     },
     "execution_count": 246,
     "metadata": {},
     "output_type": "execute_result"
    }
   ],
   "source": [
    "df = pd.read_csv('../pokemony.csv')\n",
    "df.isnull().sum()"
   ]
  },
  {
   "cell_type": "code",
   "execution_count": 247,
   "metadata": {},
   "outputs": [
    {
     "data": {
      "text/plain": [
       "0       83\n",
       "1       83\n",
       "2       83\n",
       "3       83\n",
       "4       83\n",
       "        ..\n",
       "1020    83\n",
       "1021    83\n",
       "1022    83\n",
       "1023    83\n",
       "1024    83\n",
       "Name: Evs, Length: 1025, dtype: int64"
      ]
     },
     "execution_count": 247,
     "metadata": {},
     "output_type": "execute_result"
    }
   ],
   "source": [
    "df['Evs'].apply(lambda x: len(x))"
   ]
  },
  {
   "cell_type": "code",
   "execution_count": 248,
   "metadata": {},
   "outputs": [],
   "source": [
    "df['Male_Ratio'] = df[\"Male_Ratio\"].fillna(\"Gender unknown\")\n",
    "df['Female_Ratio'] = df[\"Female_Ratio\"].fillna(\"Gender unknown\")"
   ]
  },
  {
   "cell_type": "code",
   "execution_count": 249,
   "metadata": {},
   "outputs": [
    {
     "data": {
      "text/plain": [
       "Unnamed: 0            0\n",
       "Name                  0\n",
       "Category              0\n",
       "Generation            0\n",
       "Types                 0\n",
       "Abilities             0\n",
       "Catch_Rate            0\n",
       "Egg_Groups            0\n",
       "Hatch_Time            0\n",
       "Height                0\n",
       "Weight                0\n",
       "Exp_Yield             0\n",
       "Level_Rate            0\n",
       "Evs                   0\n",
       "Base_Friendship       0\n",
       "Evolution_info        0\n",
       "Male_Ratio            0\n",
       "Female_Ratio          0\n",
       "Locations             0\n",
       "Stats                 0\n",
       "Type_effectiveness    0\n",
       "Moves                 0\n",
       "dtype: int64"
      ]
     },
     "execution_count": 249,
     "metadata": {},
     "output_type": "execute_result"
    }
   ],
   "source": [
    "df.isna().sum()"
   ]
  },
  {
   "cell_type": "code",
   "execution_count": 250,
   "metadata": {},
   "outputs": [
    {
     "name": "stdout",
     "output_type": "stream",
     "text": [
      "0       HP:\\n45???Attack:\\n49???Defense:\\n49???Sp. Atk...\n",
      "1       HP:\\n60???Attack:\\n62???Defense:\\n63???Sp. Atk...\n",
      "2       HP:\\n80???Attack:\\n82???Defense:\\n83???Sp. Atk...\n",
      "3       HP:\\n39???Attack:\\n52???Defense:\\n43???Sp. Atk...\n",
      "4       HP:\\n58???Attack:\\n64???Defense:\\n58???Sp. Atk...\n",
      "                              ...                        \n",
      "1020    HP:\\n125???Attack:\\n73???Defense:\\n91???Sp. At...\n",
      "1021    HP:\\n90???Attack:\\n120???Defense:\\n80???Sp. At...\n",
      "1022    HP:\\n90???Attack:\\n72???Defense:\\n100???Sp. At...\n",
      "1023    HP:\\n90???Attack:\\n65???Defense:\\n85???Sp. Atk...\n",
      "1024    HP:\\n88???Attack:\\n88???Defense:\\n160???Sp. At...\n",
      "Name: Stats, Length: 1025, dtype: object\n"
     ]
    }
   ],
   "source": [
    "print(df['Stats'])"
   ]
  },
  {
   "cell_type": "code",
   "execution_count": 251,
   "metadata": {},
   "outputs": [],
   "source": [
    "df['Unnamed: 0'] = df['Unnamed: 0'].apply(lambda x: x+1)"
   ]
  },
  {
   "cell_type": "code",
   "execution_count": 252,
   "metadata": {},
   "outputs": [],
   "source": [
    "df.rename(columns={'Unnamed: 0': 'Pokedex number'}, inplace=True)"
   ]
  },
  {
   "cell_type": "code",
   "execution_count": 253,
   "metadata": {},
   "outputs": [],
   "source": [
    "def remove_punc(x):\n",
    "    punct = ' .,'\n",
    "    for i in punct:\n",
    "        x = x.replace(i, '')\n",
    "    return x"
   ]
  },
  {
   "cell_type": "code",
   "execution_count": 254,
   "metadata": {},
   "outputs": [],
   "source": [
    "df['Gen'] = df['Generation'].apply(lambda x: remove_punc(x.split('Generation')[1][:4]))"
   ]
  },
  {
   "cell_type": "code",
   "execution_count": 255,
   "metadata": {},
   "outputs": [],
   "source": [
    "df.loc[809:904, 'Gen'] = 'VIII' #Changing gen of these pokemons since above line doesn't work for generation VIII"
   ]
  },
  {
   "cell_type": "code",
   "execution_count": 256,
   "metadata": {},
   "outputs": [],
   "source": [
    "def extract_abilities(x):\n",
    "    current_pokemon_abilities = []\n",
    "    for ability in list_of_abilities:\n",
    "        if ability in x:\n",
    "            current_pokemon_abilities.append(ability)\n",
    "    return current_pokemon_abilities"
   ]
  },
  {
   "cell_type": "code",
   "execution_count": 257,
   "metadata": {},
   "outputs": [],
   "source": [
    "df['Abilities'] = df['Abilities'].apply(extract_abilities)"
   ]
  },
  {
   "cell_type": "code",
   "execution_count": 258,
   "metadata": {},
   "outputs": [],
   "source": [
    "df['Catch_Rate'][0].split()\n",
    "df['Catch_Rate_Percentage'] = df['Catch_Rate'].apply(lambda x : x.split()[1].replace('(', '').replace(')', ''))"
   ]
  },
  {
   "cell_type": "code",
   "execution_count": 259,
   "metadata": {},
   "outputs": [],
   "source": [
    "df['Catch_Rate'] = df['Catch_Rate'].apply(lambda x: x.split()[0])"
   ]
  },
  {
   "cell_type": "code",
   "execution_count": 260,
   "metadata": {},
   "outputs": [],
   "source": [
    "list_of_egg_groups = [\n",
    "    'Monster',\n",
    "    'Human-Like',\n",
    "    'Water 1',\n",
    "    'Water 2',\n",
    "    'Water 3',\n",
    "    'Bug',\n",
    "    'Mineral',\n",
    "    'Flying',\n",
    "    'Amorphous',\n",
    "    'Field',\n",
    "    'Fairy',\n",
    "    'Ditto',\n",
    "    'Grass',\n",
    "    'Dragon',\n",
    "    'No Eggs Discovered'\n",
    "    ]\n"
   ]
  },
  {
   "cell_type": "code",
   "execution_count": 261,
   "metadata": {},
   "outputs": [],
   "source": [
    "def extract_egg_groups(x):\n",
    "    current_pokemon_egs = []\n",
    "    for eg in list_of_egg_groups:\n",
    "        if eg in x:\n",
    "            current_pokemon_egs.append(eg)\n",
    "    return current_pokemon_egs"
   ]
  },
  {
   "cell_type": "code",
   "execution_count": 262,
   "metadata": {},
   "outputs": [],
   "source": [
    "df['Egg_Groups'] = df['Egg_Groups'].apply(extract_egg_groups)"
   ]
  },
  {
   "cell_type": "code",
   "execution_count": 263,
   "metadata": {},
   "outputs": [],
   "source": [
    "df['Hatch_Time'] = df['Hatch_Time'].apply(lambda x: x.split()[0])"
   ]
  },
  {
   "cell_type": "markdown",
   "metadata": {},
   "source": [
    "<img src=\"../images/corrupted_columns.png\" alt=\"drawing\" width=\"800\"/>"
   ]
  },
  {
   "cell_type": "code",
   "execution_count": 264,
   "metadata": {},
   "outputs": [],
   "source": [
    "#checking if weight columns is not corrupted\n",
    "for i in df['Weight'].unique():\n",
    "    if 'kg' not in i:\n",
    "        print('x')"
   ]
  },
  {
   "cell_type": "code",
   "execution_count": 265,
   "metadata": {},
   "outputs": [],
   "source": [
    "df['Height'] = df['Height'].apply(lambda x: x.split('\\t')[1].split()[0])"
   ]
  },
  {
   "cell_type": "code",
   "execution_count": 266,
   "metadata": {},
   "outputs": [],
   "source": [
    "df['Weight'] = df['Weight'].apply(lambda x: x.split()[0])"
   ]
  },
  {
   "cell_type": "code",
   "execution_count": 267,
   "metadata": {},
   "outputs": [],
   "source": [
    "df.rename(columns={\"Hatch_Time\": \"Hatch Time (Cycles)\", \"Height\": \"Height (m)\", \"Weight\" : \"Weight (kg)\"}, inplace=True)"
   ]
  },
  {
   "cell_type": "code",
   "execution_count": 268,
   "metadata": {},
   "outputs": [],
   "source": [
    "df['Exp_Yield'] = df['Exp_Yield'].apply(lambda x: x.split('\\n')[0])"
   ]
  },
  {
   "cell_type": "code",
   "execution_count": 269,
   "metadata": {},
   "outputs": [
    {
     "data": {
      "text/plain": [
       "'0 \\n H P \\t 0 \\n A t k \\t 0 \\n D e f \\t 1 \\n S p . A t k \\t 1 \\n S p . D e f \\t 0 \\n S p e e d'"
      ]
     },
     "execution_count": 269,
     "metadata": {},
     "output_type": "execute_result"
    }
   ],
   "source": [
    "df['Evs'][1]"
   ]
  },
  {
   "cell_type": "code",
   "execution_count": null,
   "metadata": {},
   "outputs": [],
   "source": []
  },
  {
   "cell_type": "code",
   "execution_count": 270,
   "metadata": {},
   "outputs": [],
   "source": [
    "def clean_ev(x):\n",
    "    x = x.replace(' ', '').replace('*', '').split('\\t')\n",
    "    d = {}\n",
    "    for ev in x:\n",
    "        ev = ev.split('\\n')\n",
    "        stat = ev[1]\n",
    "        value = int(ev[0])\n",
    "        d[stat] = value\n",
    "    d['Total'] = sum(d.values())\n",
    "    return d"
   ]
  },
  {
   "cell_type": "code",
   "execution_count": 271,
   "metadata": {},
   "outputs": [],
   "source": [
    "\n",
    "df['Evs'] = df['Evs'].apply(clean_ev)"
   ]
  },
  {
   "cell_type": "code",
   "execution_count": 272,
   "metadata": {},
   "outputs": [],
   "source": [
    "def evolution(x):\n",
    "    if 'evolves from' in x:\n",
    "        x = x.split('evolves from')\n",
    "        return x[1].split(\" \")[1]\n",
    "    else:\n",
    "        return None"
   ]
  },
  {
   "cell_type": "code",
   "execution_count": 273,
   "metadata": {},
   "outputs": [],
   "source": [
    "df['Evolves From'] = df[\"Evolution_info\"].apply(evolution)"
   ]
  },
  {
   "cell_type": "code",
   "execution_count": 274,
   "metadata": {},
   "outputs": [],
   "source": [
    "df.loc[df['Male_Ratio'] == \"100% female\", \"Male_Ratio\"] = '0% male'"
   ]
  },
  {
   "cell_type": "code",
   "execution_count": 275,
   "metadata": {},
   "outputs": [],
   "source": [
    "df.loc[df['Female_Ratio'] == \"100% male\", \"Female_Ratio\"] = '0% female'"
   ]
  },
  {
   "cell_type": "code",
   "execution_count": 276,
   "metadata": {},
   "outputs": [],
   "source": [
    "def pseudo_legendary(x):\n",
    "    if 'pseudo-legendary' in x.lower():\n",
    "        return True\n",
    "    return False\n",
    "\n",
    "def legendary(x):\n",
    "    x = x.lower()\n",
    "    if 'pseudo-legendary' not in x and 'legendary' in x:\n",
    "        return True\n",
    "    return False\n",
    "\n",
    "\n",
    "def mythical(x):\n",
    "    if 'mythical' in x.lower():\n",
    "        return True\n",
    "    return False\n",
    "\n",
    "\n",
    "def ultra_beast(x):\n",
    "    if 'ultra beast' in x.lower():\n",
    "        return True\n",
    "    return False\n",
    "\n",
    "\n",
    "def paradox(x):\n",
    "    if 'paradox' in x.lower():\n",
    "        return True\n",
    "    return False\n",
    "\n"
   ]
  },
  {
   "cell_type": "code",
   "execution_count": 277,
   "metadata": {},
   "outputs": [],
   "source": [
    "df['Pseudo Legendary'] = df['Generation'].apply(pseudo_legendary)\n",
    "df['Legendary'] = df['Generation'].apply(legendary)\n",
    "df['Mythical'] = df['Generation'].apply(mythical)\n",
    "df['Ultra Beast'] = df['Generation'].apply(ultra_beast)\n",
    "df['Paradox'] = df['Generation'].apply(paradox)"
   ]
  },
  {
   "cell_type": "code",
   "execution_count": 278,
   "metadata": {},
   "outputs": [],
   "source": [
    "def clean_stats(x):\n",
    "    s = x.split('???')\n",
    "    HP = s[0].split('\\n')[1]\n",
    "    Atk = s[1].split('\\n')[1]\n",
    "    Def = s[2].split('\\n')[1]\n",
    "    Sp_Atk = s[3].split('\\n')[1]\n",
    "    Sp_Def = s[4].split('\\n')[1]\n",
    "    Speed = s[5].split('\\n')[1]\n",
    "    Total = s[6].split('\\n')[1]\n",
    "    return {\n",
    "            \"Total\" : Total,\n",
    "            \"HP\": HP,\n",
    "            \"Atk\": Atk,\n",
    "            \"Def\": Def,\n",
    "            \"Sp.Atk\": Sp_Atk,\n",
    "            \"Sp.Def\": Sp_Def,\n",
    "            \"Speed\" : Speed\n",
    "            }\n"
   ]
  },
  {
   "cell_type": "code",
   "execution_count": 279,
   "metadata": {},
   "outputs": [],
   "source": [
    "df['Stats'] = df['Stats'].apply(clean_stats)"
   ]
  },
  {
   "cell_type": "code",
   "execution_count": 280,
   "metadata": {},
   "outputs": [
    {
     "data": {
      "text/plain": [
       "{'Total': '318',\n",
       " 'HP': '45',\n",
       " 'Atk': '49',\n",
       " 'Def': '49',\n",
       " 'Sp.Atk': '65',\n",
       " 'Sp.Def': '65',\n",
       " 'Speed': '45'}"
      ]
     },
     "execution_count": 280,
     "metadata": {},
     "output_type": "execute_result"
    }
   ],
   "source": [
    "df['Stats'][0]"
   ]
  },
  {
   "cell_type": "code",
   "execution_count": 281,
   "metadata": {},
   "outputs": [
    {
     "data": {
      "text/plain": [
       "'Normal\\t1×\\nPoison\\t1×\\nGround\\t1×\\nRock\\t1×\\nBug\\t1×\\nGhost\\t1×\\nSteel\\t1×\\nDragon\\t1×\\nDark\\t1× Flying\\t2×\\nFire\\t2×\\nPsychic\\t2×\\nIce\\t2× None Fighting\\t½×\\nWater\\t½×\\nGrass\\t¼×\\nElectric\\t½×\\nFairy\\t½×'"
      ]
     },
     "execution_count": 281,
     "metadata": {},
     "output_type": "execute_result"
    }
   ],
   "source": [
    "df['Type_effectiveness'][0]"
   ]
  },
  {
   "cell_type": "code",
   "execution_count": 282,
   "metadata": {},
   "outputs": [],
   "source": [
    "def clean_type_effs(x):\n",
    "        d = {}\n",
    "        x = x.replace('\\t', ' ')\n",
    "        x = x.replace('\\n', ' ')\n",
    "        x = x.replace('None', '')\n",
    "        x = x.replace('  ', ' ')\n",
    "\n",
    "        splitted = x.split()\n",
    "        special_cases = {'½×': 0.5, '¼×': 0.25, '1½×': 1.5}\n",
    "\n",
    "\n",
    "        for i in range(0, len(splitted), 2):\n",
    "                pokemon_type = splitted[i]\n",
    "                effectiveness = splitted[i + 1]    \n",
    "                if effectiveness in special_cases:\n",
    "                        d[pokemon_type] = special_cases[effectiveness]\n",
    "                else:\n",
    "                        d[pokemon_type] = float(effectiveness[:-1])\n",
    "                \n",
    "        return d"
   ]
  },
  {
   "cell_type": "code",
   "execution_count": 283,
   "metadata": {},
   "outputs": [],
   "source": [
    "df['Type_effectiveness'] = df['Type_effectiveness'].apply(clean_type_effs)"
   ]
  },
  {
   "cell_type": "code",
   "execution_count": 284,
   "metadata": {},
   "outputs": [],
   "source": [
    "def clean_moves(x):\n",
    "    list_of_moves = []\n",
    "    x = x.split('???')[1:]\n",
    "    for move in x:\n",
    "        list_of_moves.append(move.split('\\t')[1])\n",
    "    return list_of_moves\n",
    "        "
   ]
  },
  {
   "cell_type": "code",
   "execution_count": 285,
   "metadata": {},
   "outputs": [],
   "source": [
    "df['Moves'] = df['Moves'].apply(clean_moves)"
   ]
  },
  {
   "cell_type": "code",
   "execution_count": 286,
   "metadata": {},
   "outputs": [],
   "source": [
    "def clean_locations(x):\n",
    "    locs = {}\n",
    "    x = x.replace('???', '\\n\\n')\n",
    "    x = x.split('\\n\\n')\n",
    "\n",
    "    for part in x:\n",
    "        game_locations = part.split('\\n')\n",
    "        games = game_locations[0].split('\\t')\n",
    "        location = game_locations[1].strip() if len(game_locations) > 1 else None\n",
    "        for game in games:\n",
    "            if game:\n",
    "                locs[game] = location\n",
    "        \n",
    "    return locs"
   ]
  },
  {
   "cell_type": "code",
   "execution_count": 287,
   "metadata": {},
   "outputs": [],
   "source": [
    "df['Locations'] = df['Locations'].apply(clean_locations)"
   ]
  },
  {
   "cell_type": "code",
   "execution_count": 288,
   "metadata": {},
   "outputs": [],
   "source": [
    "df.drop(['Generation', 'Evolution_info'], axis=1, inplace=True)"
   ]
  },
  {
   "cell_type": "code",
   "execution_count": 289,
   "metadata": {},
   "outputs": [],
   "source": [
    "df.rename(columns={'Catch_Rate':'Catch Rate', 'Egg_Groups':'Egg Groups', 'Exp_Yield':'Base Experience Yield', 'Level_Rate':'Levelling Rate', 'Evs':\"EV Yield\", 'Male_Ratio':'Male Ratio', 'Female_Ratio':'Female Ratio', 'Type_effectiveness': 'Type Effectiveness', 'Catch_Rate_Percentage':'Catch Rate (%)', 'Base_Friendship':'Base Friendship'}, inplace=True)"
   ]
  },
  {
   "cell_type": "code",
   "execution_count": 290,
   "metadata": {},
   "outputs": [],
   "source": [
    "def delister(x):\n",
    "    if len(x) == 1:\n",
    "        return x[0]\n",
    "    else:\n",
    "        return x\n",
    "\n",
    "df['Egg Groups'] = df['Egg Groups'].apply(delister)"
   ]
  },
  {
   "cell_type": "code",
   "execution_count": 291,
   "metadata": {},
   "outputs": [
    {
     "data": {
      "text/plain": [
       "Pokedex number                                                           2\n",
       "Name                                                               Ivysaur\n",
       "Category                                                      Seed Pokémon\n",
       "Types                                                         Grass Poison\n",
       "Abilities                                          [Chlorophyll, Overgrow]\n",
       "Catch Rate                                                              45\n",
       "Egg Groups                                                [Monster, Grass]\n",
       "Hatch Time (Cycles)                                                     20\n",
       "Height (m)                                                             1.0\n",
       "Weight (kg)                                                           13.0\n",
       "Base Experience Yield                                                  141\n",
       "Levelling Rate                                                 Medium Slow\n",
       "EV Yield                 {'HP': 0, 'Atk': 0, 'Def': 0, 'Sp.Atk': 1, 'Sp...\n",
       "Base Friendship                                                         70\n",
       "Male Ratio                                                      87.5% male\n",
       "Female Ratio                                                  12.5% female\n",
       "Locations                {'Red': 'Evolve Bulbasaur', 'Blue': 'Evolve Bu...\n",
       "Stats                    {'Total': '405', 'HP': '60', 'Atk': '62', 'Def...\n",
       "Type Effectiveness       {'Normal': 1.0, 'Poison': 1.0, 'Ground': 1.0, ...\n",
       "Moves                    [Tackle, Growl, Vine Whip, Growth, Leech Seed,...\n",
       "Gen                                                                      I\n",
       "Catch Rate (%)                                                       11.9%\n",
       "Evolves From                                                     Bulbasaur\n",
       "Pseudo Legendary                                                     False\n",
       "Legendary                                                            False\n",
       "Mythical                                                             False\n",
       "Ultra Beast                                                          False\n",
       "Paradox                                                              False\n",
       "Name: 1, dtype: object"
      ]
     },
     "execution_count": 291,
     "metadata": {},
     "output_type": "execute_result"
    }
   ],
   "source": [
    "df.iloc[1]"
   ]
  },
  {
   "cell_type": "code",
   "execution_count": 292,
   "metadata": {},
   "outputs": [],
   "source": [
    "df['Abilities'] = df['Abilities'].apply(lambda x: list(set(x)))"
   ]
  },
  {
   "cell_type": "code",
   "execution_count": 293,
   "metadata": {},
   "outputs": [],
   "source": [
    "import seaborn as sns\n",
    "import matplotlib.pyplot as plt\n",
    "%matplotlib inline"
   ]
  },
  {
   "cell_type": "code",
   "execution_count": 294,
   "metadata": {},
   "outputs": [
    {
     "data": {
      "text/plain": [
       "<Axes: xlabel='count', ylabel='Gen'>"
      ]
     },
     "execution_count": 294,
     "metadata": {},
     "output_type": "execute_result"
    },
    {
     "data": {
      "image/png": "[encoded data removed]",
      "text/plain": [
       "<Figure size 640x480 with 1 Axes>"
      ]
     },
     "metadata": {},
     "output_type": "display_data"
    }
   ],
   "source": [
    "sns.countplot(df['Gen'])"
   ]
  },
  {
   "cell_type": "code",
   "execution_count": 298,
   "metadata": {},
   "outputs": [],
   "source": [
    "stats_df = pd.json_normalize(df['Stats'])\n",
    "evs_df = pd.json_normalize(df['EV Yield'])\n",
    "type_effectiveness = pd.json_normalize(df['Type Effectiveness'])"
   ]
  },
  {
   "cell_type": "code",
   "execution_count": 307,
   "metadata": {},
   "outputs": [],
   "source": [
    "df.set_index('Pokedex number').to_csv('../saves/PokemonComplete.csv')"
   ]
  },
  {
   "cell_type": "code",
   "execution_count": null,
   "metadata": {},
   "outputs": [],
   "source": []
  }
 ],
 "metadata": {
  "kernelspec": {
   "display_name": "Python 3",
   "language": "python",
   "name": "python3"
  },
  "language_info": {
   "codemirror_mode": {
    "name": "ipython",
    "version": 3
   },
   "file_extension": ".py",
   "mimetype": "text/x-python",
   "name": "python",
   "nbconvert_exporter": "python",
   "pygments_lexer": "ipython3",
   "version": "3.11.9"
  }
 },
 "nbformat": 4,
 "nbformat_minor": 2
}
